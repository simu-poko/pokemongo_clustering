{
 "cells": [
  {
   "cell_type": "code",
   "execution_count": 1,
   "metadata": {},
   "outputs": [],
   "source": [
    "import numpy as np\n",
    "import matplotlib.pyplot as plt\n",
    "import pandas as pd\n",
    "import seaborn as sns\n",
    "from sklearn.preprocessing import MinMaxScaler, StandardScaler\n",
    "from scipy.cluster.hierarchy import dendrogram, linkage, fcluster\n",
    "from get_pokemon_stats import get_pokemon_stats\n",
    "%matplotlib inline"
   ]
  },
  {
   "cell_type": "markdown",
   "metadata": {},
   "source": [
    "## 1. 데이터 로딩 / データの取得"
   ]
  },
  {
   "cell_type": "markdown",
   "metadata": {},
   "source": [
    "- There are many ways to acquire data, but used the API provided by the RapidAPI site.\n",
    "- If you sign up, API KEY will be issued."
   ]
  },
  {
   "cell_type": "code",
   "execution_count": 2,
   "metadata": {},
   "outputs": [],
   "source": [
    "# https://rapidapi.com/brianiswu/api/pokemon-go1/\n",
    "API_KEY = \"YOUR_API_KEY\""
   ]
  },
  {
   "cell_type": "markdown",
   "metadata": {},
   "source": [
    "- Acquire the information for each Pokémon."
   ]
  },
  {
   "cell_type": "code",
   "execution_count": 3,
   "metadata": {},
   "outputs": [
    {
     "data": {
      "text/html": [
       "<div>\n",
       "<style scoped>\n",
       "    .dataframe tbody tr th:only-of-type {\n",
       "        vertical-align: middle;\n",
       "    }\n",
       "\n",
       "    .dataframe tbody tr th {\n",
       "        vertical-align: top;\n",
       "    }\n",
       "\n",
       "    .dataframe thead th {\n",
       "        text-align: right;\n",
       "    }\n",
       "</style>\n",
       "<table border=\"1\" class=\"dataframe\">\n",
       "  <thead>\n",
       "    <tr style=\"text-align: right;\">\n",
       "      <th></th>\n",
       "      <th>pokemon_id</th>\n",
       "      <th>pokemon_name</th>\n",
       "      <th>form</th>\n",
       "      <th>base_attack</th>\n",
       "      <th>base_defense</th>\n",
       "      <th>base_stamina</th>\n",
       "      <th>max_cp</th>\n",
       "      <th>candy_required</th>\n",
       "      <th>type1</th>\n",
       "      <th>type2</th>\n",
       "    </tr>\n",
       "  </thead>\n",
       "  <tbody>\n",
       "    <tr>\n",
       "      <th>0</th>\n",
       "      <td>1</td>\n",
       "      <td>Bulbasaur</td>\n",
       "      <td>Normal</td>\n",
       "      <td>118</td>\n",
       "      <td>111</td>\n",
       "      <td>128</td>\n",
       "      <td>1115</td>\n",
       "      <td>25</td>\n",
       "      <td>Grass</td>\n",
       "      <td>Poison</td>\n",
       "    </tr>\n",
       "    <tr>\n",
       "      <th>1</th>\n",
       "      <td>1</td>\n",
       "      <td>Bulbasaur</td>\n",
       "      <td>Purified</td>\n",
       "      <td>118</td>\n",
       "      <td>111</td>\n",
       "      <td>128</td>\n",
       "      <td>1115</td>\n",
       "      <td>22</td>\n",
       "      <td>Grass</td>\n",
       "      <td>Poison</td>\n",
       "    </tr>\n",
       "    <tr>\n",
       "      <th>2</th>\n",
       "      <td>1</td>\n",
       "      <td>Bulbasaur</td>\n",
       "      <td>Shadow</td>\n",
       "      <td>118</td>\n",
       "      <td>111</td>\n",
       "      <td>128</td>\n",
       "      <td>1115</td>\n",
       "      <td>25</td>\n",
       "      <td>Grass</td>\n",
       "      <td>Poison</td>\n",
       "    </tr>\n",
       "    <tr>\n",
       "      <th>3</th>\n",
       "      <td>2</td>\n",
       "      <td>Ivysaur</td>\n",
       "      <td>Normal</td>\n",
       "      <td>151</td>\n",
       "      <td>143</td>\n",
       "      <td>155</td>\n",
       "      <td>1699</td>\n",
       "      <td>100</td>\n",
       "      <td>Grass</td>\n",
       "      <td>Poison</td>\n",
       "    </tr>\n",
       "    <tr>\n",
       "      <th>4</th>\n",
       "      <td>2</td>\n",
       "      <td>Ivysaur</td>\n",
       "      <td>Purified</td>\n",
       "      <td>151</td>\n",
       "      <td>143</td>\n",
       "      <td>155</td>\n",
       "      <td>1699</td>\n",
       "      <td>90</td>\n",
       "      <td>Grass</td>\n",
       "      <td>Poison</td>\n",
       "    </tr>\n",
       "  </tbody>\n",
       "</table>\n",
       "</div>"
      ],
      "text/plain": [
       "  pokemon_id pokemon_name      form  base_attack  base_defense  base_stamina  \\\n",
       "0          1    Bulbasaur    Normal          118           111           128   \n",
       "1          1    Bulbasaur  Purified          118           111           128   \n",
       "2          1    Bulbasaur    Shadow          118           111           128   \n",
       "3          2      Ivysaur    Normal          151           143           155   \n",
       "4          2      Ivysaur  Purified          151           143           155   \n",
       "\n",
       "   max_cp candy_required  type1   type2  \n",
       "0    1115             25  Grass  Poison  \n",
       "1    1115             22  Grass  Poison  \n",
       "2    1115             25  Grass  Poison  \n",
       "3    1699            100  Grass  Poison  \n",
       "4    1699             90  Grass  Poison  "
      ]
     },
     "execution_count": 3,
     "metadata": {},
     "output_type": "execute_result"
    }
   ],
   "source": [
    "df = get_pokemon_stats(API_KEY)\n",
    "df.head()"
   ]
  },
  {
   "cell_type": "markdown",
   "metadata": {},
   "source": [
    "## 2. 데이터 전처리 / データの前処理"
   ]
  },
  {
   "cell_type": "markdown",
   "metadata": {},
   "source": [
    "### Rename Pokémon to Japanese"
   ]
  },
  {
   "cell_type": "markdown",
   "metadata": {},
   "source": [
    "- Mapping information for English and Japanese is stored in the \"pokemon_name_master.csv\" file."
   ]
  },
  {
   "cell_type": "code",
   "execution_count": 4,
   "metadata": {},
   "outputs": [
    {
     "data": {
      "text/html": [
       "<div>\n",
       "<style scoped>\n",
       "    .dataframe tbody tr th:only-of-type {\n",
       "        vertical-align: middle;\n",
       "    }\n",
       "\n",
       "    .dataframe tbody tr th {\n",
       "        vertical-align: top;\n",
       "    }\n",
       "\n",
       "    .dataframe thead th {\n",
       "        text-align: right;\n",
       "    }\n",
       "</style>\n",
       "<table border=\"1\" class=\"dataframe\">\n",
       "  <thead>\n",
       "    <tr style=\"text-align: right;\">\n",
       "      <th></th>\n",
       "      <th>pokemon_id</th>\n",
       "      <th>pokemon_name</th>\n",
       "      <th>form</th>\n",
       "      <th>base_attack</th>\n",
       "      <th>base_defense</th>\n",
       "      <th>base_stamina</th>\n",
       "      <th>max_cp</th>\n",
       "      <th>candy_required</th>\n",
       "      <th>type1</th>\n",
       "      <th>type2</th>\n",
       "      <th>japanese_name</th>\n",
       "    </tr>\n",
       "  </thead>\n",
       "  <tbody>\n",
       "    <tr>\n",
       "      <th>0</th>\n",
       "      <td>1</td>\n",
       "      <td>Bulbasaur</td>\n",
       "      <td>Normal</td>\n",
       "      <td>118</td>\n",
       "      <td>111</td>\n",
       "      <td>128</td>\n",
       "      <td>1115</td>\n",
       "      <td>25</td>\n",
       "      <td>Grass</td>\n",
       "      <td>Poison</td>\n",
       "      <td>フシギダネ</td>\n",
       "    </tr>\n",
       "    <tr>\n",
       "      <th>1</th>\n",
       "      <td>1</td>\n",
       "      <td>Bulbasaur</td>\n",
       "      <td>Purified</td>\n",
       "      <td>118</td>\n",
       "      <td>111</td>\n",
       "      <td>128</td>\n",
       "      <td>1115</td>\n",
       "      <td>22</td>\n",
       "      <td>Grass</td>\n",
       "      <td>Poison</td>\n",
       "      <td>フシギダネ</td>\n",
       "    </tr>\n",
       "    <tr>\n",
       "      <th>2</th>\n",
       "      <td>1</td>\n",
       "      <td>Bulbasaur</td>\n",
       "      <td>Shadow</td>\n",
       "      <td>118</td>\n",
       "      <td>111</td>\n",
       "      <td>128</td>\n",
       "      <td>1115</td>\n",
       "      <td>25</td>\n",
       "      <td>Grass</td>\n",
       "      <td>Poison</td>\n",
       "      <td>フシギダネ</td>\n",
       "    </tr>\n",
       "    <tr>\n",
       "      <th>3</th>\n",
       "      <td>2</td>\n",
       "      <td>Ivysaur</td>\n",
       "      <td>Normal</td>\n",
       "      <td>151</td>\n",
       "      <td>143</td>\n",
       "      <td>155</td>\n",
       "      <td>1699</td>\n",
       "      <td>100</td>\n",
       "      <td>Grass</td>\n",
       "      <td>Poison</td>\n",
       "      <td>フシギソウ</td>\n",
       "    </tr>\n",
       "    <tr>\n",
       "      <th>4</th>\n",
       "      <td>2</td>\n",
       "      <td>Ivysaur</td>\n",
       "      <td>Purified</td>\n",
       "      <td>151</td>\n",
       "      <td>143</td>\n",
       "      <td>155</td>\n",
       "      <td>1699</td>\n",
       "      <td>90</td>\n",
       "      <td>Grass</td>\n",
       "      <td>Poison</td>\n",
       "      <td>フシギソウ</td>\n",
       "    </tr>\n",
       "  </tbody>\n",
       "</table>\n",
       "</div>"
      ],
      "text/plain": [
       "  pokemon_id pokemon_name      form  base_attack  base_defense  base_stamina  \\\n",
       "0          1    Bulbasaur    Normal          118           111           128   \n",
       "1          1    Bulbasaur  Purified          118           111           128   \n",
       "2          1    Bulbasaur    Shadow          118           111           128   \n",
       "3          2      Ivysaur    Normal          151           143           155   \n",
       "4          2      Ivysaur  Purified          151           143           155   \n",
       "\n",
       "   max_cp candy_required  type1   type2 japanese_name  \n",
       "0    1115             25  Grass  Poison         フシギダネ  \n",
       "1    1115             22  Grass  Poison         フシギダネ  \n",
       "2    1115             25  Grass  Poison         フシギダネ  \n",
       "3    1699            100  Grass  Poison         フシギソウ  \n",
       "4    1699             90  Grass  Poison         フシギソウ  "
      ]
     },
     "execution_count": 4,
     "metadata": {},
     "output_type": "execute_result"
    }
   ],
   "source": [
    "df_names = pd.read_csv(\"pokemon_name_master.csv\")\n",
    "df = pd.merge(df, df_names, on=\"pokemon_name\", how=\"left\")\n",
    "df.head()"
   ]
  },
  {
   "cell_type": "markdown",
   "metadata": {},
   "source": [
    "### Limit to the normal form, leaving only the columns to be used."
   ]
  },
  {
   "cell_type": "code",
   "execution_count": 5,
   "metadata": {},
   "outputs": [
    {
     "data": {
      "text/html": [
       "<div>\n",
       "<style scoped>\n",
       "    .dataframe tbody tr th:only-of-type {\n",
       "        vertical-align: middle;\n",
       "    }\n",
       "\n",
       "    .dataframe tbody tr th {\n",
       "        vertical-align: top;\n",
       "    }\n",
       "\n",
       "    .dataframe thead th {\n",
       "        text-align: right;\n",
       "    }\n",
       "</style>\n",
       "<table border=\"1\" class=\"dataframe\">\n",
       "  <thead>\n",
       "    <tr style=\"text-align: right;\">\n",
       "      <th></th>\n",
       "      <th>japanese_name</th>\n",
       "      <th>base_attack</th>\n",
       "      <th>base_defense</th>\n",
       "      <th>base_stamina</th>\n",
       "      <th>max_cp</th>\n",
       "      <th>type1</th>\n",
       "      <th>type2</th>\n",
       "    </tr>\n",
       "  </thead>\n",
       "  <tbody>\n",
       "    <tr>\n",
       "      <th>0</th>\n",
       "      <td>フシギダネ</td>\n",
       "      <td>118</td>\n",
       "      <td>111</td>\n",
       "      <td>128</td>\n",
       "      <td>1115</td>\n",
       "      <td>Grass</td>\n",
       "      <td>Poison</td>\n",
       "    </tr>\n",
       "    <tr>\n",
       "      <th>1</th>\n",
       "      <td>フシギソウ</td>\n",
       "      <td>151</td>\n",
       "      <td>143</td>\n",
       "      <td>155</td>\n",
       "      <td>1699</td>\n",
       "      <td>Grass</td>\n",
       "      <td>Poison</td>\n",
       "    </tr>\n",
       "    <tr>\n",
       "      <th>2</th>\n",
       "      <td>ヒトカゲ</td>\n",
       "      <td>116</td>\n",
       "      <td>93</td>\n",
       "      <td>118</td>\n",
       "      <td>980</td>\n",
       "      <td>Fire</td>\n",
       "      <td>None</td>\n",
       "    </tr>\n",
       "    <tr>\n",
       "      <th>3</th>\n",
       "      <td>リザード</td>\n",
       "      <td>158</td>\n",
       "      <td>126</td>\n",
       "      <td>151</td>\n",
       "      <td>1653</td>\n",
       "      <td>Fire</td>\n",
       "      <td>None</td>\n",
       "    </tr>\n",
       "    <tr>\n",
       "      <th>4</th>\n",
       "      <td>ゼニガメ</td>\n",
       "      <td>94</td>\n",
       "      <td>121</td>\n",
       "      <td>127</td>\n",
       "      <td>946</td>\n",
       "      <td>Water</td>\n",
       "      <td>None</td>\n",
       "    </tr>\n",
       "  </tbody>\n",
       "</table>\n",
       "</div>"
      ],
      "text/plain": [
       "  japanese_name  base_attack  base_defense  base_stamina  max_cp  type1  \\\n",
       "0         フシギダネ          118           111           128    1115  Grass   \n",
       "1         フシギソウ          151           143           155    1699  Grass   \n",
       "2          ヒトカゲ          116            93           118     980   Fire   \n",
       "3          リザード          158           126           151    1653   Fire   \n",
       "4          ゼニガメ           94           121           127     946  Water   \n",
       "\n",
       "    type2  \n",
       "0  Poison  \n",
       "1  Poison  \n",
       "2    None  \n",
       "3    None  \n",
       "4    None  "
      ]
     },
     "execution_count": 5,
     "metadata": {},
     "output_type": "execute_result"
    }
   ],
   "source": [
    "df = df.loc[(df[\"form\"] == \"Normal\") | (df[\"form\"].isnull()), :]\n",
    "df = df[[\"japanese_name\", \"base_attack\", \"base_defense\", \"base_stamina\", \"max_cp\", \"type1\", \"type2\"]]\n",
    "df = df.reset_index(drop=True)\n",
    "df.head()"
   ]
  },
  {
   "cell_type": "markdown",
   "metadata": {},
   "source": [
    "## 3. 스탯을 활용한 계층적 클러스터링 / ステータスを使って階層型クラスタリング"
   ]
  },
  {
   "cell_type": "markdown",
   "metadata": {},
   "source": [
    "### Feature scaling"
   ]
  },
  {
   "cell_type": "code",
   "execution_count": 6,
   "metadata": {},
   "outputs": [],
   "source": [
    "scaler = StandardScaler()\n",
    "data_stats = df.loc[:, \"base_attack\":\"max_cp\"].values\n",
    "data_stats = scaler.fit_transform(data_stats)"
   ]
  },
  {
   "cell_type": "markdown",
   "metadata": {},
   "source": [
    "### Clustering"
   ]
  },
  {
   "cell_type": "code",
   "execution_count": 7,
   "metadata": {},
   "outputs": [],
   "source": [
    "linkage_result = linkage(data_stats, method=\"ward\")"
   ]
  },
  {
   "cell_type": "code",
   "execution_count": 8,
   "metadata": {},
   "outputs": [
    {
     "data": {
      "image/png": "[encoded data removed]",
      "text/plain": [
       "<Figure size 1296x432 with 1 Axes>"
      ]
     },
     "metadata": {
      "needs_background": "light"
     },
     "output_type": "display_data"
    }
   ],
   "source": [
    "plt.figure(figsize=(18, 6))\n",
    "dendrogram(linkage_result)\n",
    "plt.show()"
   ]
  },
  {
   "cell_type": "markdown",
   "metadata": {},
   "source": [
    "### Split into 5 clusters"
   ]
  },
  {
   "cell_type": "code",
   "execution_count": 9,
   "metadata": {},
   "outputs": [],
   "source": [
    "clusters = fcluster(linkage_result, 5, criterion=\"maxclust\")"
   ]
  },
  {
   "cell_type": "markdown",
   "metadata": {},
   "source": [
    "- Evolved Pokémon were classified into different clusters because of the difference in the status."
   ]
  },
  {
   "cell_type": "code",
   "execution_count": 10,
   "metadata": {},
   "outputs": [
    {
     "data": {
      "text/html": [
       "<div>\n",
       "<style scoped>\n",
       "    .dataframe tbody tr th:only-of-type {\n",
       "        vertical-align: middle;\n",
       "    }\n",
       "\n",
       "    .dataframe tbody tr th {\n",
       "        vertical-align: top;\n",
       "    }\n",
       "\n",
       "    .dataframe thead th {\n",
       "        text-align: right;\n",
       "    }\n",
       "</style>\n",
       "<table border=\"1\" class=\"dataframe\">\n",
       "  <thead>\n",
       "    <tr style=\"text-align: right;\">\n",
       "      <th></th>\n",
       "      <th>japanese_name</th>\n",
       "      <th>base_attack</th>\n",
       "      <th>base_defense</th>\n",
       "      <th>base_stamina</th>\n",
       "      <th>max_cp</th>\n",
       "      <th>type1</th>\n",
       "      <th>type2</th>\n",
       "      <th>cluster</th>\n",
       "    </tr>\n",
       "  </thead>\n",
       "  <tbody>\n",
       "    <tr>\n",
       "      <th>0</th>\n",
       "      <td>フシギダネ</td>\n",
       "      <td>118</td>\n",
       "      <td>111</td>\n",
       "      <td>128</td>\n",
       "      <td>1115</td>\n",
       "      <td>Grass</td>\n",
       "      <td>Poison</td>\n",
       "      <td>5</td>\n",
       "    </tr>\n",
       "    <tr>\n",
       "      <th>1</th>\n",
       "      <td>フシギソウ</td>\n",
       "      <td>151</td>\n",
       "      <td>143</td>\n",
       "      <td>155</td>\n",
       "      <td>1699</td>\n",
       "      <td>Grass</td>\n",
       "      <td>Poison</td>\n",
       "      <td>1</td>\n",
       "    </tr>\n",
       "    <tr>\n",
       "      <th>2</th>\n",
       "      <td>ヒトカゲ</td>\n",
       "      <td>116</td>\n",
       "      <td>93</td>\n",
       "      <td>118</td>\n",
       "      <td>980</td>\n",
       "      <td>Fire</td>\n",
       "      <td>None</td>\n",
       "      <td>3</td>\n",
       "    </tr>\n",
       "    <tr>\n",
       "      <th>3</th>\n",
       "      <td>リザード</td>\n",
       "      <td>158</td>\n",
       "      <td>126</td>\n",
       "      <td>151</td>\n",
       "      <td>1653</td>\n",
       "      <td>Fire</td>\n",
       "      <td>None</td>\n",
       "      <td>1</td>\n",
       "    </tr>\n",
       "    <tr>\n",
       "      <th>4</th>\n",
       "      <td>ゼニガメ</td>\n",
       "      <td>94</td>\n",
       "      <td>121</td>\n",
       "      <td>127</td>\n",
       "      <td>946</td>\n",
       "      <td>Water</td>\n",
       "      <td>None</td>\n",
       "      <td>5</td>\n",
       "    </tr>\n",
       "  </tbody>\n",
       "</table>\n",
       "</div>"
      ],
      "text/plain": [
       "  japanese_name  base_attack  base_defense  base_stamina  max_cp  type1  \\\n",
       "0         フシギダネ          118           111           128    1115  Grass   \n",
       "1         フシギソウ          151           143           155    1699  Grass   \n",
       "2          ヒトカゲ          116            93           118     980   Fire   \n",
       "3          リザード          158           126           151    1653   Fire   \n",
       "4          ゼニガメ           94           121           127     946  Water   \n",
       "\n",
       "    type2  cluster  \n",
       "0  Poison        5  \n",
       "1  Poison        1  \n",
       "2    None        3  \n",
       "3    None        1  \n",
       "4    None        5  "
      ]
     },
     "execution_count": 10,
     "metadata": {},
     "output_type": "execute_result"
    }
   ],
   "source": [
    "df_result = df.copy()\n",
    "df_result[\"cluster\"] = clusters\n",
    "df_result.head()"
   ]
  },
  {
   "cell_type": "code",
   "execution_count": 11,
   "metadata": {},
   "outputs": [
    {
     "data": {
      "text/plain": [
       "<matplotlib.axes._subplots.AxesSubplot at 0x25d9d54a240>"
      ]
     },
     "execution_count": 11,
     "metadata": {},
     "output_type": "execute_result"
    },
    {
     "data": {
      "image/png": "[encoded data removed]",
      "text/plain": [
       "<Figure size 576x288 with 1 Axes>"
      ]
     },
     "metadata": {
      "needs_background": "light"
     },
     "output_type": "display_data"
    }
   ],
   "source": [
    "plt.figure(figsize=(8, 4))\n",
    "sns.boxplot(y=\"cluster\", x=\"base_attack\", data=df_result, orient=\"h\")"
   ]
  },
  {
   "cell_type": "markdown",
   "metadata": {},
   "source": [
    "- Cluster 5 is defense-centric"
   ]
  },
  {
   "cell_type": "code",
   "execution_count": 12,
   "metadata": {},
   "outputs": [
    {
     "data": {
      "text/plain": [
       "<matplotlib.axes._subplots.AxesSubplot at 0x25d9a5a8588>"
      ]
     },
     "execution_count": 12,
     "metadata": {},
     "output_type": "execute_result"
    },
    {
     "data": {
      "image/png": "[encoded data removed]",
      "text/plain": [
       "<Figure size 576x288 with 1 Axes>"
      ]
     },
     "metadata": {
      "needs_background": "light"
     },
     "output_type": "display_data"
    }
   ],
   "source": [
    "plt.figure(figsize=(8, 4))\n",
    "sns.boxplot(y=\"cluster\", x=\"base_defense\", data=df_result, orient=\"h\")"
   ]
  },
  {
   "cell_type": "code",
   "execution_count": 13,
   "metadata": {},
   "outputs": [
    {
     "data": {
      "text/html": [
       "<div>\n",
       "<style scoped>\n",
       "    .dataframe tbody tr th:only-of-type {\n",
       "        vertical-align: middle;\n",
       "    }\n",
       "\n",
       "    .dataframe tbody tr th {\n",
       "        vertical-align: top;\n",
       "    }\n",
       "\n",
       "    .dataframe thead th {\n",
       "        text-align: right;\n",
       "    }\n",
       "</style>\n",
       "<table border=\"1\" class=\"dataframe\">\n",
       "  <thead>\n",
       "    <tr style=\"text-align: right;\">\n",
       "      <th></th>\n",
       "      <th>japanese_name</th>\n",
       "      <th>base_attack</th>\n",
       "      <th>base_defense</th>\n",
       "      <th>base_stamina</th>\n",
       "      <th>max_cp</th>\n",
       "      <th>type1</th>\n",
       "      <th>type2</th>\n",
       "      <th>cluster</th>\n",
       "    </tr>\n",
       "  </thead>\n",
       "  <tbody>\n",
       "    <tr>\n",
       "      <th>173</th>\n",
       "      <td>サマヨール</td>\n",
       "      <td>124</td>\n",
       "      <td>234</td>\n",
       "      <td>120</td>\n",
       "      <td>1591</td>\n",
       "      <td>Ghost</td>\n",
       "      <td>None</td>\n",
       "      <td>5</td>\n",
       "    </tr>\n",
       "    <tr>\n",
       "      <th>53</th>\n",
       "      <td>イワーク</td>\n",
       "      <td>85</td>\n",
       "      <td>232</td>\n",
       "      <td>111</td>\n",
       "      <td>1101</td>\n",
       "      <td>Rock</td>\n",
       "      <td>Ground</td>\n",
       "      <td>5</td>\n",
       "    </tr>\n",
       "    <tr>\n",
       "      <th>149</th>\n",
       "      <td>ノズパス</td>\n",
       "      <td>82</td>\n",
       "      <td>215</td>\n",
       "      <td>102</td>\n",
       "      <td>993</td>\n",
       "      <td>Rock</td>\n",
       "      <td>None</td>\n",
       "      <td>5</td>\n",
       "    </tr>\n",
       "    <tr>\n",
       "      <th>195</th>\n",
       "      <td>タテトプス</td>\n",
       "      <td>76</td>\n",
       "      <td>195</td>\n",
       "      <td>102</td>\n",
       "      <td>890</td>\n",
       "      <td>Rock</td>\n",
       "      <td>Steel</td>\n",
       "      <td>5</td>\n",
       "    </tr>\n",
       "    <tr>\n",
       "      <th>215</th>\n",
       "      <td>タマンタ</td>\n",
       "      <td>105</td>\n",
       "      <td>179</td>\n",
       "      <td>128</td>\n",
       "      <td>1248</td>\n",
       "      <td>Water</td>\n",
       "      <td>Flying</td>\n",
       "      <td>5</td>\n",
       "    </tr>\n",
       "  </tbody>\n",
       "</table>\n",
       "</div>"
      ],
      "text/plain": [
       "    japanese_name  base_attack  base_defense  base_stamina  max_cp  type1  \\\n",
       "173         サマヨール          124           234           120    1591  Ghost   \n",
       "53           イワーク           85           232           111    1101   Rock   \n",
       "149          ノズパス           82           215           102     993   Rock   \n",
       "195         タテトプス           76           195           102     890   Rock   \n",
       "215          タマンタ          105           179           128    1248  Water   \n",
       "\n",
       "      type2  cluster  \n",
       "173    None        5  \n",
       "53   Ground        5  \n",
       "149    None        5  \n",
       "195   Steel        5  \n",
       "215  Flying        5  "
      ]
     },
     "execution_count": 13,
     "metadata": {},
     "output_type": "execute_result"
    }
   ],
   "source": [
    "df_result[df_result[\"cluster\"] == 5].sort_values(\"base_defense\", ascending=False).head()"
   ]
  },
  {
   "cell_type": "markdown",
   "metadata": {},
   "source": [
    "- Cluster 2 is stamina-centric"
   ]
  },
  {
   "cell_type": "code",
   "execution_count": 14,
   "metadata": {},
   "outputs": [
    {
     "data": {
      "text/plain": [
       "<matplotlib.axes._subplots.AxesSubplot at 0x25d9f8d1da0>"
      ]
     },
     "execution_count": 14,
     "metadata": {},
     "output_type": "execute_result"
    },
    {
     "data": {
      "image/png": "[encoded data removed]",
      "text/plain": [
       "<Figure size 576x288 with 1 Axes>"
      ]
     },
     "metadata": {
      "needs_background": "light"
     },
     "output_type": "display_data"
    }
   ],
   "source": [
    "plt.figure(figsize=(8, 4))\n",
    "sns.boxplot(y=\"cluster\", x=\"base_stamina\", data=df_result, orient=\"h\")"
   ]
  },
  {
   "cell_type": "code",
   "execution_count": 15,
   "metadata": {},
   "outputs": [
    {
     "data": {
      "text/html": [
       "<div>\n",
       "<style scoped>\n",
       "    .dataframe tbody tr th:only-of-type {\n",
       "        vertical-align: middle;\n",
       "    }\n",
       "\n",
       "    .dataframe tbody tr th {\n",
       "        vertical-align: top;\n",
       "    }\n",
       "\n",
       "    .dataframe thead th {\n",
       "        text-align: right;\n",
       "    }\n",
       "</style>\n",
       "<table border=\"1\" class=\"dataframe\">\n",
       "  <thead>\n",
       "    <tr style=\"text-align: right;\">\n",
       "      <th></th>\n",
       "      <th>japanese_name</th>\n",
       "      <th>base_attack</th>\n",
       "      <th>base_defense</th>\n",
       "      <th>base_stamina</th>\n",
       "      <th>max_cp</th>\n",
       "      <th>type1</th>\n",
       "      <th>type2</th>\n",
       "      <th>cluster</th>\n",
       "    </tr>\n",
       "  </thead>\n",
       "  <tbody>\n",
       "    <tr>\n",
       "      <th>63</th>\n",
       "      <td>ラッキー</td>\n",
       "      <td>60</td>\n",
       "      <td>128</td>\n",
       "      <td>487</td>\n",
       "      <td>1255</td>\n",
       "      <td>Normal</td>\n",
       "      <td>None</td>\n",
       "      <td>2</td>\n",
       "    </tr>\n",
       "    <tr>\n",
       "      <th>209</th>\n",
       "      <td>ゴンベ</td>\n",
       "      <td>137</td>\n",
       "      <td>117</td>\n",
       "      <td>286</td>\n",
       "      <td>1892</td>\n",
       "      <td>Normal</td>\n",
       "      <td>None</td>\n",
       "      <td>2</td>\n",
       "    </tr>\n",
       "    <tr>\n",
       "      <th>158</th>\n",
       "      <td>ホエルコ</td>\n",
       "      <td>136</td>\n",
       "      <td>68</td>\n",
       "      <td>277</td>\n",
       "      <td>1468</td>\n",
       "      <td>Water</td>\n",
       "      <td>None</td>\n",
       "      <td>2</td>\n",
       "    </tr>\n",
       "    <tr>\n",
       "      <th>23</th>\n",
       "      <td>プリン</td>\n",
       "      <td>80</td>\n",
       "      <td>41</td>\n",
       "      <td>251</td>\n",
       "      <td>724</td>\n",
       "      <td>Normal</td>\n",
       "      <td>Fairy</td>\n",
       "      <td>2</td>\n",
       "    </tr>\n",
       "    <tr>\n",
       "      <th>206</th>\n",
       "      <td>ピンプク</td>\n",
       "      <td>25</td>\n",
       "      <td>77</td>\n",
       "      <td>225</td>\n",
       "      <td>371</td>\n",
       "      <td>Normal</td>\n",
       "      <td>None</td>\n",
       "      <td>2</td>\n",
       "    </tr>\n",
       "  </tbody>\n",
       "</table>\n",
       "</div>"
      ],
      "text/plain": [
       "    japanese_name  base_attack  base_defense  base_stamina  max_cp   type1  \\\n",
       "63           ラッキー           60           128           487    1255  Normal   \n",
       "209           ゴンベ          137           117           286    1892  Normal   \n",
       "158          ホエルコ          136            68           277    1468   Water   \n",
       "23            プリン           80            41           251     724  Normal   \n",
       "206          ピンプク           25            77           225     371  Normal   \n",
       "\n",
       "     type2  cluster  \n",
       "63    None        2  \n",
       "209   None        2  \n",
       "158   None        2  \n",
       "23   Fairy        2  \n",
       "206   None        2  "
      ]
     },
     "execution_count": 15,
     "metadata": {},
     "output_type": "execute_result"
    }
   ],
   "source": [
    "df_result[df_result[\"cluster\"] == 2].sort_values(\"base_stamina\", ascending=False).head()"
   ]
  },
  {
   "cell_type": "markdown",
   "metadata": {},
   "source": [
    "## 4. 포켓몬의 타입 정보를 추가 / タイプ情報を加える"
   ]
  },
  {
   "cell_type": "markdown",
   "metadata": {},
   "source": [
    "- Each Pokémon has a maximum of two types.\n",
    "- The types owned by Pokémon are replaced by 1 and the other types are replaced by 0."
   ]
  },
  {
   "cell_type": "code",
   "execution_count": 6,
   "metadata": {},
   "outputs": [],
   "source": [
    "POKEMON_TYPES = [\"Normal\", \"Fire\", \"Water\", \"Electric\", \"Grass\", \"Ice\",\n",
    "                 \"Fighting\", \"Poison\", \"Ground\", \"Flying\", \"Psychic\", \"Bug\",\n",
    "                 \"Rock\", \"Ghost\", \"Dragon\", \"Dark\", \"Steel\", \"Fairy\"]"
   ]
  },
  {
   "cell_type": "code",
   "execution_count": 7,
   "metadata": {},
   "outputs": [
    {
     "data": {
      "text/html": [
       "<div>\n",
       "<style scoped>\n",
       "    .dataframe tbody tr th:only-of-type {\n",
       "        vertical-align: middle;\n",
       "    }\n",
       "\n",
       "    .dataframe tbody tr th {\n",
       "        vertical-align: top;\n",
       "    }\n",
       "\n",
       "    .dataframe thead th {\n",
       "        text-align: right;\n",
       "    }\n",
       "</style>\n",
       "<table border=\"1\" class=\"dataframe\">\n",
       "  <thead>\n",
       "    <tr style=\"text-align: right;\">\n",
       "      <th></th>\n",
       "      <th>japanese_name</th>\n",
       "      <th>type1</th>\n",
       "      <th>type2</th>\n",
       "      <th>Normal</th>\n",
       "      <th>Fire</th>\n",
       "      <th>Water</th>\n",
       "      <th>Electric</th>\n",
       "      <th>Grass</th>\n",
       "      <th>Ice</th>\n",
       "      <th>Fighting</th>\n",
       "      <th>...</th>\n",
       "      <th>Ground</th>\n",
       "      <th>Flying</th>\n",
       "      <th>Psychic</th>\n",
       "      <th>Bug</th>\n",
       "      <th>Rock</th>\n",
       "      <th>Ghost</th>\n",
       "      <th>Dragon</th>\n",
       "      <th>Dark</th>\n",
       "      <th>Steel</th>\n",
       "      <th>Fairy</th>\n",
       "    </tr>\n",
       "  </thead>\n",
       "  <tbody>\n",
       "    <tr>\n",
       "      <th>0</th>\n",
       "      <td>フシギダネ</td>\n",
       "      <td>Grass</td>\n",
       "      <td>Poison</td>\n",
       "      <td>0</td>\n",
       "      <td>0</td>\n",
       "      <td>0</td>\n",
       "      <td>0</td>\n",
       "      <td>1</td>\n",
       "      <td>0</td>\n",
       "      <td>0</td>\n",
       "      <td>...</td>\n",
       "      <td>0</td>\n",
       "      <td>0</td>\n",
       "      <td>0</td>\n",
       "      <td>0</td>\n",
       "      <td>0</td>\n",
       "      <td>0</td>\n",
       "      <td>0</td>\n",
       "      <td>0</td>\n",
       "      <td>0</td>\n",
       "      <td>0</td>\n",
       "    </tr>\n",
       "    <tr>\n",
       "      <th>1</th>\n",
       "      <td>フシギソウ</td>\n",
       "      <td>Grass</td>\n",
       "      <td>Poison</td>\n",
       "      <td>0</td>\n",
       "      <td>0</td>\n",
       "      <td>0</td>\n",
       "      <td>0</td>\n",
       "      <td>1</td>\n",
       "      <td>0</td>\n",
       "      <td>0</td>\n",
       "      <td>...</td>\n",
       "      <td>0</td>\n",
       "      <td>0</td>\n",
       "      <td>0</td>\n",
       "      <td>0</td>\n",
       "      <td>0</td>\n",
       "      <td>0</td>\n",
       "      <td>0</td>\n",
       "      <td>0</td>\n",
       "      <td>0</td>\n",
       "      <td>0</td>\n",
       "    </tr>\n",
       "    <tr>\n",
       "      <th>2</th>\n",
       "      <td>ヒトカゲ</td>\n",
       "      <td>Fire</td>\n",
       "      <td>None</td>\n",
       "      <td>0</td>\n",
       "      <td>1</td>\n",
       "      <td>0</td>\n",
       "      <td>0</td>\n",
       "      <td>0</td>\n",
       "      <td>0</td>\n",
       "      <td>0</td>\n",
       "      <td>...</td>\n",
       "      <td>0</td>\n",
       "      <td>0</td>\n",
       "      <td>0</td>\n",
       "      <td>0</td>\n",
       "      <td>0</td>\n",
       "      <td>0</td>\n",
       "      <td>0</td>\n",
       "      <td>0</td>\n",
       "      <td>0</td>\n",
       "      <td>0</td>\n",
       "    </tr>\n",
       "    <tr>\n",
       "      <th>3</th>\n",
       "      <td>リザード</td>\n",
       "      <td>Fire</td>\n",
       "      <td>None</td>\n",
       "      <td>0</td>\n",
       "      <td>1</td>\n",
       "      <td>0</td>\n",
       "      <td>0</td>\n",
       "      <td>0</td>\n",
       "      <td>0</td>\n",
       "      <td>0</td>\n",
       "      <td>...</td>\n",
       "      <td>0</td>\n",
       "      <td>0</td>\n",
       "      <td>0</td>\n",
       "      <td>0</td>\n",
       "      <td>0</td>\n",
       "      <td>0</td>\n",
       "      <td>0</td>\n",
       "      <td>0</td>\n",
       "      <td>0</td>\n",
       "      <td>0</td>\n",
       "    </tr>\n",
       "    <tr>\n",
       "      <th>4</th>\n",
       "      <td>ゼニガメ</td>\n",
       "      <td>Water</td>\n",
       "      <td>None</td>\n",
       "      <td>0</td>\n",
       "      <td>0</td>\n",
       "      <td>1</td>\n",
       "      <td>0</td>\n",
       "      <td>0</td>\n",
       "      <td>0</td>\n",
       "      <td>0</td>\n",
       "      <td>...</td>\n",
       "      <td>0</td>\n",
       "      <td>0</td>\n",
       "      <td>0</td>\n",
       "      <td>0</td>\n",
       "      <td>0</td>\n",
       "      <td>0</td>\n",
       "      <td>0</td>\n",
       "      <td>0</td>\n",
       "      <td>0</td>\n",
       "      <td>0</td>\n",
       "    </tr>\n",
       "  </tbody>\n",
       "</table>\n",
       "<p>5 rows × 21 columns</p>\n",
       "</div>"
      ],
      "text/plain": [
       "  japanese_name  type1   type2  Normal  Fire  Water  Electric  Grass  Ice  \\\n",
       "0         フシギダネ  Grass  Poison       0     0      0         0      1    0   \n",
       "1         フシギソウ  Grass  Poison       0     0      0         0      1    0   \n",
       "2          ヒトカゲ   Fire    None       0     1      0         0      0    0   \n",
       "3          リザード   Fire    None       0     1      0         0      0    0   \n",
       "4          ゼニガメ  Water    None       0     0      1         0      0    0   \n",
       "\n",
       "   Fighting  ...  Ground  Flying  Psychic  Bug  Rock  Ghost  Dragon  Dark  \\\n",
       "0         0  ...       0       0        0    0     0      0       0     0   \n",
       "1         0  ...       0       0        0    0     0      0       0     0   \n",
       "2         0  ...       0       0        0    0     0      0       0     0   \n",
       "3         0  ...       0       0        0    0     0      0       0     0   \n",
       "4         0  ...       0       0        0    0     0      0       0     0   \n",
       "\n",
       "   Steel  Fairy  \n",
       "0      0      0  \n",
       "1      0      0  \n",
       "2      0      0  \n",
       "3      0      0  \n",
       "4      0      0  \n",
       "\n",
       "[5 rows x 21 columns]"
      ]
     },
     "execution_count": 7,
     "metadata": {},
     "output_type": "execute_result"
    }
   ],
   "source": [
    "df_types = df.loc[:, [\"japanese_name\", \"type1\", \"type2\"]]\n",
    "for p_type in POKEMON_TYPES:\n",
    "    df_types.loc[:, p_type] = df_types.apply(lambda x: 1 if (x[1] == p_type) or (x[2] == p_type) else 0, axis=1).values\n",
    "df_types.head()"
   ]
  },
  {
   "cell_type": "markdown",
   "metadata": {},
   "source": [
    "### Combine the features"
   ]
  },
  {
   "cell_type": "markdown",
   "metadata": {},
   "source": [
    "- Apply the MinMaxScaler this time (because of a more understandable outcome)"
   ]
  },
  {
   "cell_type": "code",
   "execution_count": 8,
   "metadata": {},
   "outputs": [],
   "source": [
    "scaler = MinMaxScaler()\n",
    "data_stats = df.loc[:, \"base_attack\":\"max_cp\"].values\n",
    "data_stats = scaler.fit_transform(data_stats)"
   ]
  },
  {
   "cell_type": "code",
   "execution_count": 9,
   "metadata": {},
   "outputs": [],
   "source": [
    "data_types = df_types.loc[:, \"Normal\":\"Fairy\"].values\n",
    "data = np.concatenate([data_stats, data_types], axis=1)"
   ]
  },
  {
   "cell_type": "markdown",
   "metadata": {},
   "source": [
    "## 5. 타입 정보를 가미하여 계층적 클리스터링 / タイプ情報を加えて階層型クラスタリング"
   ]
  },
  {
   "cell_type": "code",
   "execution_count": 10,
   "metadata": {},
   "outputs": [],
   "source": [
    "linkage_result = linkage(data, method=\"ward\")"
   ]
  },
  {
   "cell_type": "code",
   "execution_count": 11,
   "metadata": {},
   "outputs": [
    {
     "data": {
      "image/png": "[encoded data removed]",
      "text/plain": [
       "<Figure size 1296x432 with 1 Axes>"
      ]
     },
     "metadata": {
      "needs_background": "light"
     },
     "output_type": "display_data"
    }
   ],
   "source": [
    "plt.figure(figsize=(18, 6))\n",
    "dendrogram(linkage_result)\n",
    "plt.show()"
   ]
  },
  {
   "cell_type": "markdown",
   "metadata": {},
   "source": [
    "### Split into 7 clusters"
   ]
  },
  {
   "cell_type": "code",
   "execution_count": 12,
   "metadata": {},
   "outputs": [],
   "source": [
    "clusters = fcluster(linkage_result, 7, criterion=\"maxclust\")"
   ]
  },
  {
   "cell_type": "code",
   "execution_count": 13,
   "metadata": {},
   "outputs": [
    {
     "data": {
      "text/html": [
       "<div>\n",
       "<style scoped>\n",
       "    .dataframe tbody tr th:only-of-type {\n",
       "        vertical-align: middle;\n",
       "    }\n",
       "\n",
       "    .dataframe tbody tr th {\n",
       "        vertical-align: top;\n",
       "    }\n",
       "\n",
       "    .dataframe thead th {\n",
       "        text-align: right;\n",
       "    }\n",
       "</style>\n",
       "<table border=\"1\" class=\"dataframe\">\n",
       "  <thead>\n",
       "    <tr style=\"text-align: right;\">\n",
       "      <th></th>\n",
       "      <th>japanese_name</th>\n",
       "      <th>base_attack</th>\n",
       "      <th>base_defense</th>\n",
       "      <th>base_stamina</th>\n",
       "      <th>max_cp</th>\n",
       "      <th>type1</th>\n",
       "      <th>type2</th>\n",
       "      <th>cluster</th>\n",
       "    </tr>\n",
       "  </thead>\n",
       "  <tbody>\n",
       "    <tr>\n",
       "      <th>0</th>\n",
       "      <td>フシギダネ</td>\n",
       "      <td>118</td>\n",
       "      <td>111</td>\n",
       "      <td>128</td>\n",
       "      <td>1115</td>\n",
       "      <td>Grass</td>\n",
       "      <td>Poison</td>\n",
       "      <td>3</td>\n",
       "    </tr>\n",
       "    <tr>\n",
       "      <th>1</th>\n",
       "      <td>フシギソウ</td>\n",
       "      <td>151</td>\n",
       "      <td>143</td>\n",
       "      <td>155</td>\n",
       "      <td>1699</td>\n",
       "      <td>Grass</td>\n",
       "      <td>Poison</td>\n",
       "      <td>3</td>\n",
       "    </tr>\n",
       "    <tr>\n",
       "      <th>2</th>\n",
       "      <td>ヒトカゲ</td>\n",
       "      <td>116</td>\n",
       "      <td>93</td>\n",
       "      <td>118</td>\n",
       "      <td>980</td>\n",
       "      <td>Fire</td>\n",
       "      <td>None</td>\n",
       "      <td>6</td>\n",
       "    </tr>\n",
       "    <tr>\n",
       "      <th>3</th>\n",
       "      <td>リザード</td>\n",
       "      <td>158</td>\n",
       "      <td>126</td>\n",
       "      <td>151</td>\n",
       "      <td>1653</td>\n",
       "      <td>Fire</td>\n",
       "      <td>None</td>\n",
       "      <td>6</td>\n",
       "    </tr>\n",
       "    <tr>\n",
       "      <th>4</th>\n",
       "      <td>ゼニガメ</td>\n",
       "      <td>94</td>\n",
       "      <td>121</td>\n",
       "      <td>127</td>\n",
       "      <td>946</td>\n",
       "      <td>Water</td>\n",
       "      <td>None</td>\n",
       "      <td>4</td>\n",
       "    </tr>\n",
       "  </tbody>\n",
       "</table>\n",
       "</div>"
      ],
      "text/plain": [
       "  japanese_name  base_attack  base_defense  base_stamina  max_cp  type1  \\\n",
       "0         フシギダネ          118           111           128    1115  Grass   \n",
       "1         フシギソウ          151           143           155    1699  Grass   \n",
       "2          ヒトカゲ          116            93           118     980   Fire   \n",
       "3          リザード          158           126           151    1653   Fire   \n",
       "4          ゼニガメ           94           121           127     946  Water   \n",
       "\n",
       "    type2  cluster  \n",
       "0  Poison        3  \n",
       "1  Poison        3  \n",
       "2    None        6  \n",
       "3    None        6  \n",
       "4    None        4  "
      ]
     },
     "execution_count": 13,
     "metadata": {},
     "output_type": "execute_result"
    }
   ],
   "source": [
    "df_result = df.copy()\n",
    "df_result[\"cluster\"] = clusters\n",
    "df_result.head()"
   ]
  },
  {
   "cell_type": "markdown",
   "metadata": {},
   "source": [
    "- Count the number of types by cluster"
   ]
  },
  {
   "cell_type": "code",
   "execution_count": 14,
   "metadata": {},
   "outputs": [
    {
     "data": {
      "text/html": [
       "<div>\n",
       "<style scoped>\n",
       "    .dataframe tbody tr th:only-of-type {\n",
       "        vertical-align: middle;\n",
       "    }\n",
       "\n",
       "    .dataframe tbody tr th {\n",
       "        vertical-align: top;\n",
       "    }\n",
       "\n",
       "    .dataframe thead th {\n",
       "        text-align: right;\n",
       "    }\n",
       "</style>\n",
       "<table border=\"1\" class=\"dataframe\">\n",
       "  <thead>\n",
       "    <tr style=\"text-align: right;\">\n",
       "      <th></th>\n",
       "      <th>Normal</th>\n",
       "      <th>Fire</th>\n",
       "      <th>Water</th>\n",
       "      <th>Electric</th>\n",
       "      <th>Grass</th>\n",
       "      <th>Ice</th>\n",
       "      <th>Fighting</th>\n",
       "      <th>Poison</th>\n",
       "      <th>Ground</th>\n",
       "      <th>Flying</th>\n",
       "      <th>Psychic</th>\n",
       "      <th>Bug</th>\n",
       "      <th>Rock</th>\n",
       "      <th>Ghost</th>\n",
       "      <th>Dragon</th>\n",
       "      <th>Dark</th>\n",
       "      <th>Steel</th>\n",
       "      <th>Fairy</th>\n",
       "    </tr>\n",
       "  </thead>\n",
       "  <tbody>\n",
       "    <tr>\n",
       "      <th>cluster1</th>\n",
       "      <td>36</td>\n",
       "      <td>0</td>\n",
       "      <td>3</td>\n",
       "      <td>0</td>\n",
       "      <td>0</td>\n",
       "      <td>0</td>\n",
       "      <td>0</td>\n",
       "      <td>0</td>\n",
       "      <td>1</td>\n",
       "      <td>23</td>\n",
       "      <td>0</td>\n",
       "      <td>4</td>\n",
       "      <td>0</td>\n",
       "      <td>0</td>\n",
       "      <td>0</td>\n",
       "      <td>2</td>\n",
       "      <td>0</td>\n",
       "      <td>1</td>\n",
       "    </tr>\n",
       "    <tr>\n",
       "      <th>cluster2</th>\n",
       "      <td>0</td>\n",
       "      <td>0</td>\n",
       "      <td>1</td>\n",
       "      <td>0</td>\n",
       "      <td>3</td>\n",
       "      <td>0</td>\n",
       "      <td>0</td>\n",
       "      <td>7</td>\n",
       "      <td>1</td>\n",
       "      <td>0</td>\n",
       "      <td>0</td>\n",
       "      <td>20</td>\n",
       "      <td>0</td>\n",
       "      <td>0</td>\n",
       "      <td>0</td>\n",
       "      <td>0</td>\n",
       "      <td>0</td>\n",
       "      <td>0</td>\n",
       "    </tr>\n",
       "    <tr>\n",
       "      <th>cluster3</th>\n",
       "      <td>0</td>\n",
       "      <td>0</td>\n",
       "      <td>3</td>\n",
       "      <td>0</td>\n",
       "      <td>28</td>\n",
       "      <td>0</td>\n",
       "      <td>1</td>\n",
       "      <td>21</td>\n",
       "      <td>0</td>\n",
       "      <td>4</td>\n",
       "      <td>1</td>\n",
       "      <td>0</td>\n",
       "      <td>0</td>\n",
       "      <td>0</td>\n",
       "      <td>0</td>\n",
       "      <td>0</td>\n",
       "      <td>0</td>\n",
       "      <td>0</td>\n",
       "    </tr>\n",
       "    <tr>\n",
       "      <th>cluster4</th>\n",
       "      <td>0</td>\n",
       "      <td>0</td>\n",
       "      <td>27</td>\n",
       "      <td>0</td>\n",
       "      <td>0</td>\n",
       "      <td>0</td>\n",
       "      <td>0</td>\n",
       "      <td>0</td>\n",
       "      <td>0</td>\n",
       "      <td>0</td>\n",
       "      <td>0</td>\n",
       "      <td>0</td>\n",
       "      <td>0</td>\n",
       "      <td>0</td>\n",
       "      <td>0</td>\n",
       "      <td>0</td>\n",
       "      <td>0</td>\n",
       "      <td>0</td>\n",
       "    </tr>\n",
       "    <tr>\n",
       "      <th>cluster5</th>\n",
       "      <td>0</td>\n",
       "      <td>2</td>\n",
       "      <td>10</td>\n",
       "      <td>0</td>\n",
       "      <td>3</td>\n",
       "      <td>10</td>\n",
       "      <td>0</td>\n",
       "      <td>1</td>\n",
       "      <td>28</td>\n",
       "      <td>1</td>\n",
       "      <td>2</td>\n",
       "      <td>2</td>\n",
       "      <td>19</td>\n",
       "      <td>1</td>\n",
       "      <td>11</td>\n",
       "      <td>12</td>\n",
       "      <td>0</td>\n",
       "      <td>0</td>\n",
       "    </tr>\n",
       "    <tr>\n",
       "      <th>cluster6</th>\n",
       "      <td>0</td>\n",
       "      <td>20</td>\n",
       "      <td>1</td>\n",
       "      <td>0</td>\n",
       "      <td>0</td>\n",
       "      <td>0</td>\n",
       "      <td>12</td>\n",
       "      <td>2</td>\n",
       "      <td>0</td>\n",
       "      <td>1</td>\n",
       "      <td>0</td>\n",
       "      <td>1</td>\n",
       "      <td>0</td>\n",
       "      <td>11</td>\n",
       "      <td>0</td>\n",
       "      <td>1</td>\n",
       "      <td>0</td>\n",
       "      <td>0</td>\n",
       "    </tr>\n",
       "    <tr>\n",
       "      <th>cluster7</th>\n",
       "      <td>3</td>\n",
       "      <td>0</td>\n",
       "      <td>2</td>\n",
       "      <td>17</td>\n",
       "      <td>2</td>\n",
       "      <td>0</td>\n",
       "      <td>1</td>\n",
       "      <td>0</td>\n",
       "      <td>0</td>\n",
       "      <td>2</td>\n",
       "      <td>20</td>\n",
       "      <td>1</td>\n",
       "      <td>3</td>\n",
       "      <td>0</td>\n",
       "      <td>0</td>\n",
       "      <td>1</td>\n",
       "      <td>13</td>\n",
       "      <td>11</td>\n",
       "    </tr>\n",
       "  </tbody>\n",
       "</table>\n",
       "</div>"
      ],
      "text/plain": [
       "          Normal  Fire  Water  Electric  Grass  Ice  Fighting  Poison  Ground  \\\n",
       "cluster1      36     0      3         0      0    0         0       0       1   \n",
       "cluster2       0     0      1         0      3    0         0       7       1   \n",
       "cluster3       0     0      3         0     28    0         1      21       0   \n",
       "cluster4       0     0     27         0      0    0         0       0       0   \n",
       "cluster5       0     2     10         0      3   10         0       1      28   \n",
       "cluster6       0    20      1         0      0    0        12       2       0   \n",
       "cluster7       3     0      2        17      2    0         1       0       0   \n",
       "\n",
       "          Flying  Psychic  Bug  Rock  Ghost  Dragon  Dark  Steel  Fairy  \n",
       "cluster1      23        0    4     0      0       0     2      0      1  \n",
       "cluster2       0        0   20     0      0       0     0      0      0  \n",
       "cluster3       4        1    0     0      0       0     0      0      0  \n",
       "cluster4       0        0    0     0      0       0     0      0      0  \n",
       "cluster5       1        2    2    19      1      11    12      0      0  \n",
       "cluster6       1        0    1     0     11       0     1      0      0  \n",
       "cluster7       2       20    1     3      0       0     1     13     11  "
      ]
     },
     "execution_count": 14,
     "metadata": {},
     "output_type": "execute_result"
    }
   ],
   "source": [
    "df_result_types = pd.DataFrame(columns=POKEMON_TYPES)\n",
    "for i in range(1, 8):\n",
    "    for p_type in POKEMON_TYPES:\n",
    "        df_result_types.loc[\"cluster{}\".format(i), p_type] = len(df_result.loc[(df_result[\"cluster\"] == i) & ((df_result[\"type1\"] == p_type) | (df_result[\"type2\"] == p_type))])\n",
    "df_result_types = df_result_types.astype(\"int\")\n",
    "df_result_types"
   ]
  },
  {
   "cell_type": "markdown",
   "metadata": {},
   "source": [
    "## 6. 결과에 대한 고찰 / 結果の考察"
   ]
  },
  {
   "cell_type": "code",
   "execution_count": 20,
   "metadata": {},
   "outputs": [],
   "source": [
    "def count_sub_types(df, main_type):\n",
    "    result = pd.DataFrame()\n",
    "    result[\"sub_type\"] = df.loc[(df[\"type1\"] == main_type) | (df[\"type2\"] == main_type), [\"type1\", \"type2\"]].apply(lambda x: x[1] if x[0] == main_type else x[0], axis=1)\n",
    "    return result[\"sub_type\"].value_counts(dropna=False)"
   ]
  },
  {
   "cell_type": "markdown",
   "metadata": {},
   "source": [
    "### cluster1"
   ]
  },
  {
   "cell_type": "markdown",
   "metadata": {},
   "source": [
    "- Mainly normal-type and flying-type\n",
    "- Due to the presence of Pokémon with both normal and flying types, it is thought that they are tied to the same cluster."
   ]
  },
  {
   "cell_type": "code",
   "execution_count": 21,
   "metadata": {},
   "outputs": [
    {
     "data": {
      "image/png": "[encoded data removed]",
      "text/plain": [
       "<Figure size 432x288 with 1 Axes>"
      ]
     },
     "metadata": {},
     "output_type": "display_data"
    }
   ],
   "source": [
    "sub_type_counts = count_sub_types(df_result, \"Flying\")\n",
    "\n",
    "sns.set_palette(\"Set2\")\n",
    "fig = plt.figure()\n",
    "ax = fig.add_subplot(1, 1, 1)\n",
    "ax.pie(sub_type_counts.values, labels=sub_type_counts.index, autopct=\"%1.1f%%\")\n",
    "plt.show()"
   ]
  },
  {
   "cell_type": "markdown",
   "metadata": {},
   "source": [
    "## cluster2 & cluster3"
   ]
  },
  {
   "cell_type": "markdown",
   "metadata": {},
   "source": [
    "- Cluster 2 and Cluster 3 are relatively close to each other because there are many patterns of poison + grass or poison + bug."
   ]
  },
  {
   "cell_type": "code",
   "execution_count": 24,
   "metadata": {},
   "outputs": [
    {
     "data": {
      "image/png": "[encoded data removed]",
      "text/plain": [
       "<Figure size 432x288 with 1 Axes>"
      ]
     },
     "metadata": {},
     "output_type": "display_data"
    }
   ],
   "source": [
    "sub_type_counts = count_sub_types(df_result, \"Poison\")\n",
    "\n",
    "fig = plt.figure()\n",
    "ax = fig.add_subplot(1, 1, 1)\n",
    "ax.pie(sub_type_counts.values, labels=sub_type_counts.index, autopct=\"%1.1f%%\")\n",
    "plt.show()"
   ]
  },
  {
   "cell_type": "markdown",
   "metadata": {},
   "source": [
    "## cluster4"
   ]
  },
  {
   "cell_type": "markdown",
   "metadata": {},
   "source": [
    "- Many water-type Pokémon do not have an additional type."
   ]
  },
  {
   "cell_type": "code",
   "execution_count": 25,
   "metadata": {},
   "outputs": [
    {
     "data": {
      "image/png": "[encoded data removed]",
      "text/plain": [
       "<Figure size 432x288 with 1 Axes>"
      ]
     },
     "metadata": {},
     "output_type": "display_data"
    }
   ],
   "source": [
    "sub_type_counts = count_sub_types(df_result, \"Water\")\n",
    "\n",
    "fig = plt.figure()\n",
    "ax = fig.add_subplot(1, 1, 1)\n",
    "ax.pie(sub_type_counts.values, labels=sub_type_counts.index, autopct=\"%1.1f%%\")\n",
    "plt.show()"
   ]
  },
  {
   "cell_type": "markdown",
   "metadata": {},
   "source": [
    "## cluster5"
   ]
  },
  {
   "cell_type": "markdown",
   "metadata": {},
   "source": [
    "- Ground and rock types are highly friendly."
   ]
  },
  {
   "cell_type": "code",
   "execution_count": 26,
   "metadata": {},
   "outputs": [
    {
     "data": {
      "image/png": "[encoded data removed]",
      "text/plain": [
       "<Figure size 432x288 with 1 Axes>"
      ]
     },
     "metadata": {},
     "output_type": "display_data"
    }
   ],
   "source": [
    "sub_type_counts = count_sub_types(df_result, \"Ground\")\n",
    "\n",
    "fig = plt.figure()\n",
    "ax = fig.add_subplot(1, 1, 1)\n",
    "ax.pie(sub_type_counts.values, labels=sub_type_counts.index, autopct=\"%1.1f%%\")\n",
    "plt.show()"
   ]
  },
  {
   "cell_type": "markdown",
   "metadata": {},
   "source": [
    "- Dragon-type has only ground-type or dark-type as an additional type."
   ]
  },
  {
   "cell_type": "code",
   "execution_count": 27,
   "metadata": {},
   "outputs": [
    {
     "data": {
      "image/png": "[encoded data removed]",
      "text/plain": [
       "<Figure size 432x288 with 1 Axes>"
      ]
     },
     "metadata": {},
     "output_type": "display_data"
    }
   ],
   "source": [
    "sub_type_counts = count_sub_types(df_result, \"Dragon\")\n",
    "\n",
    "fig = plt.figure()\n",
    "ax = fig.add_subplot(1, 1, 1)\n",
    "ax.pie(sub_type_counts.values, labels=sub_type_counts.index, autopct=\"%1.1f%%\")\n",
    "plt.show()"
   ]
  },
  {
   "cell_type": "markdown",
   "metadata": {},
   "source": [
    "## cluster6"
   ]
  },
  {
   "cell_type": "markdown",
   "metadata": {},
   "source": [
    "- Many fire-type and fighting-type Pokémon do not have an additional type.\n",
    "- However, it is relatively common to have both."
   ]
  },
  {
   "cell_type": "code",
   "execution_count": 31,
   "metadata": {},
   "outputs": [
    {
     "data": {
      "image/png": "[encoded data removed]",
      "text/plain": [
       "<Figure size 432x288 with 1 Axes>"
      ]
     },
     "metadata": {},
     "output_type": "display_data"
    }
   ],
   "source": [
    "sub_type_counts = count_sub_types(df_result, \"Fire\")\n",
    "\n",
    "fig = plt.figure()\n",
    "ax = fig.add_subplot(1, 1, 1)\n",
    "ax.pie(sub_type_counts.values, labels=sub_type_counts.index, autopct=\"%1.1f%%\")\n",
    "plt.show()"
   ]
  },
  {
   "cell_type": "code",
   "execution_count": 32,
   "metadata": {},
   "outputs": [
    {
     "data": {
      "image/png": "[encoded data removed]",
      "text/plain": [
       "<Figure size 432x288 with 1 Axes>"
      ]
     },
     "metadata": {},
     "output_type": "display_data"
    }
   ],
   "source": [
    "sub_type_counts = count_sub_types(df_result, \"Fighting\")\n",
    "\n",
    "fig = plt.figure()\n",
    "ax = fig.add_subplot(1, 1, 1)\n",
    "ax.pie(sub_type_counts.values, labels=sub_type_counts.index, autopct=\"%1.1f%%\")\n",
    "plt.show()"
   ]
  },
  {
   "cell_type": "markdown",
   "metadata": {},
   "source": [
    "## cluster7"
   ]
  },
  {
   "cell_type": "markdown",
   "metadata": {},
   "source": [
    "- Steel-type is highly friendly with psychic-type or electric-type."
   ]
  },
  {
   "cell_type": "code",
   "execution_count": 35,
   "metadata": {},
   "outputs": [
    {
     "data": {
      "image/png": "[encoded data removed]",
      "text/plain": [
       "<Figure size 432x288 with 1 Axes>"
      ]
     },
     "metadata": {},
     "output_type": "display_data"
    }
   ],
   "source": [
    "sub_type_counts = count_sub_types(df_result, \"Steel\")\n",
    "\n",
    "fig = plt.figure()\n",
    "ax = fig.add_subplot(1, 1, 1)\n",
    "ax.pie(sub_type_counts.values, labels=sub_type_counts.index, autopct=\"%1.1f%%\")\n",
    "plt.show()"
   ]
  },
  {
   "cell_type": "markdown",
   "metadata": {},
   "source": [
    "- Electric-type tends strongly not to have different types.\n",
    "- However, some have steel-type."
   ]
  },
  {
   "cell_type": "code",
   "execution_count": 36,
   "metadata": {},
   "outputs": [
    {
     "data": {
      "image/png": "[encoded data removed]",
      "text/plain": [
       "<Figure size 432x288 with 1 Axes>"
      ]
     },
     "metadata": {},
     "output_type": "display_data"
    }
   ],
   "source": [
    "sub_type_counts = count_sub_types(df_result, \"Electric\")\n",
    "\n",
    "fig = plt.figure()\n",
    "ax = fig.add_subplot(1, 1, 1)\n",
    "ax.pie(sub_type_counts.values, labels=sub_type_counts.index, autopct=\"%1.1f%%\")\n",
    "plt.show()"
   ]
  },
  {
   "cell_type": "code",
   "execution_count": null,
   "metadata": {},
   "outputs": [],
   "source": []
  }
 ],
 "metadata": {
  "kernelspec": {
   "display_name": "Python 3",
   "language": "python",
   "name": "python3"
  },
  "language_info": {
   "codemirror_mode": {
    "name": "ipython",
    "version": 3
   },
   "file_extension": ".py",
   "mimetype": "text/x-python",
   "name": "python",
   "nbconvert_exporter": "python",
   "pygments_lexer": "ipython3",
   "version": "3.6.8"
  }
 },
 "nbformat": 4,
 "nbformat_minor": 2
}
